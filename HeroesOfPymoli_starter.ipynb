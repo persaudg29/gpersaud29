{
 "cells": [
  {
   "cell_type": "markdown",
   "metadata": {},
   "source": [
    "### Heroes Of Pymoli Data Analysis\n",
    "1. The player demographic is overwhelmingly males aged 20-24, occupying 84% of the player base. \"Young Adult\" Demographic\n",
    "2. The 20-24 Demographic initiates the most amount of in-game purchases of all the demographics.\n",
    "3. Item Name: Pursuit, Cudgel of Necromancy, occupys spot 5 on the list of most popular in-game purchases, but it is majorly underpriced compared to the other items on the list. \n"
   ]
  },
  {
   "cell_type": "markdown",
   "metadata": {},
   "source": [
    "### Note\n",
    "* Instructions have been included for each segment. You do not have to follow them exactly, but they are included to help you think through the steps."
   ]
  },
  {
   "cell_type": "code",
   "execution_count": 29,
   "metadata": {
    "scrolled": false
   },
   "outputs": [
    {
     "name": "stdout",
     "output_type": "stream",
     "text": [
      "780\n",
      "The total amount of unique players is 576.\n"
     ]
    }
   ],
   "source": [
    "# Dependencies and Setup\n",
    "import pandas as pd\n",
    "import numpy as np\n",
    "import pprint\n",
    "\n",
    "# File to Load (Remember to Change These)\n",
    "file_to_load = \"Resources/purchase_data.csv\"\n",
    "\n",
    "# Read Purchasing File and store into Pandas data frame\n",
    "purchase_data = pd.read_csv(file_to_load, header = 0)\n",
    "#print(purchase_data.head())\n",
    "print(len(purchase_data.iloc[:, 1]))\n",
    "\n",
    "print({len(set(purchase_data.iloc[:, 1]))}.\")\n"
   ]
  },
  {
   "cell_type": "markdown",
   "metadata": {},
   "source": [
    "## Player Count"
   ]
  },
  {
   "cell_type": "markdown",
   "metadata": {},
   "source": [
    "* Display the total number of players\n"
   ]
  },
  {
   "cell_type": "code",
   "execution_count": 34,
   "metadata": {},
   "outputs": [
    {
     "data": {
      "text/html": [
       "<div>\n",
       "<style scoped>\n",
       "    .dataframe tbody tr th:only-of-type {\n",
       "        vertical-align: middle;\n",
       "    }\n",
       "\n",
       "    .dataframe tbody tr th {\n",
       "        vertical-align: top;\n",
       "    }\n",
       "\n",
       "    .dataframe thead th {\n",
       "        text-align: right;\n",
       "    }\n",
       "</style>\n",
       "<table border=\"1\" class=\"dataframe\">\n",
       "  <thead>\n",
       "    <tr style=\"text-align: right;\">\n",
       "      <th></th>\n",
       "      <th>Player Count</th>\n",
       "    </tr>\n",
       "  </thead>\n",
       "  <tbody>\n",
       "    <tr>\n",
       "      <th>0</th>\n",
       "      <td>576</td>\n",
       "    </tr>\n",
       "  </tbody>\n",
       "</table>\n",
       "</div>"
      ],
      "text/plain": [
       "   Player Count\n",
       "0           576"
      ]
     },
     "execution_count": 34,
     "metadata": {},
     "output_type": "execute_result"
    }
   ],
   "source": [
    "pd.DataFrame({ \"Player Count\": [len(set(purchase_data.iloc[:, 1]))]})\n",
    "\n"
   ]
  },
  {
   "cell_type": "markdown",
   "metadata": {},
   "source": [
    "## Purchasing Analysis (Total)"
   ]
  },
  {
   "cell_type": "markdown",
   "metadata": {},
   "source": [
    "* Run basic calculations to obtain number of unique items, average price, etc.\n",
    "\n",
    "\n",
    "* Create a summary data frame to hold the results\n",
    "\n",
    "\n",
    "* Optional: give the displayed data cleaner formatting\n",
    "\n",
    "\n",
    "* Display the summary data frame\n"
   ]
  },
  {
   "cell_type": "code",
   "execution_count": 57,
   "metadata": {
    "scrolled": false
   },
   "outputs": [
    {
     "data": {
      "text/html": [
       "<div>\n",
       "<style scoped>\n",
       "    .dataframe tbody tr th:only-of-type {\n",
       "        vertical-align: middle;\n",
       "    }\n",
       "\n",
       "    .dataframe tbody tr th {\n",
       "        vertical-align: top;\n",
       "    }\n",
       "\n",
       "    .dataframe thead th {\n",
       "        text-align: right;\n",
       "    }\n",
       "</style>\n",
       "<table border=\"1\" class=\"dataframe\">\n",
       "  <thead>\n",
       "    <tr style=\"text-align: right;\">\n",
       "      <th></th>\n",
       "      <th>Number of Unique Items</th>\n",
       "      <th>Average Price</th>\n",
       "      <th>Number of Purchases</th>\n",
       "      <th>Total Revenue</th>\n",
       "    </tr>\n",
       "  </thead>\n",
       "  <tbody>\n",
       "    <tr>\n",
       "      <th>0</th>\n",
       "      <td>183</td>\n",
       "      <td>3.050987</td>\n",
       "      <td>780</td>\n",
       "      <td>2379.77</td>\n",
       "    </tr>\n",
       "  </tbody>\n",
       "</table>\n",
       "</div>"
      ],
      "text/plain": [
       "   Number of Unique Items  Average Price  Number of Purchases  Total Revenue\n",
       "0                     183       3.050987                  780        2379.77"
      ]
     },
     "execution_count": 57,
     "metadata": {},
     "output_type": "execute_result"
    }
   ],
   "source": [
    "#pd.DataFrame({ \"Player Count\": [len(set(purchase_data.iloc[:, 1]))]})\n",
    "#purchase_data.nunique(axis = 1)\n",
    "purchase_data.nunique() \n",
    "unique_items = purchase_data.loc[:, \"Item ID\"].nunique()\n",
    "#print(unique_items)\n",
    "avg_price = purchase_data.loc[:, \"Price\"].mean()\n",
    "#print(avg_price)\n",
    "total_transactions = len(purchase_data.loc[:, \"Purchase ID\"])\n",
    "#print(total_transactions)\n",
    "total_revenue = purchase_data.loc[:, \"Price\"].sum()\n",
    "#print(total_revenue)\n",
    "pd.DataFrame({\"Number of Unique Items\": [unique_items], \"Average Price\": [avg_price], \"Number of Purchases\": [total_transactions], \"Total Revenue\": [total_revenue]})"
   ]
  },
  {
   "cell_type": "markdown",
   "metadata": {},
   "source": [
    "## Gender Demographics"
   ]
  },
  {
   "cell_type": "markdown",
   "metadata": {},
   "source": [
    "* Percentage and Count of Male Players\n",
    "\n",
    "\n",
    "* Percentage and Count of Female Players\n",
    "\n",
    "\n",
    "* Percentage and Count of Other / Non-Disclosed\n",
    "\n",
    "\n"
   ]
  },
  {
   "cell_type": "code",
   "execution_count": 90,
   "metadata": {},
   "outputs": [
    {
     "data": {
      "text/html": [
       "<div>\n",
       "<style scoped>\n",
       "    .dataframe tbody tr th:only-of-type {\n",
       "        vertical-align: middle;\n",
       "    }\n",
       "\n",
       "    .dataframe tbody tr th {\n",
       "        vertical-align: top;\n",
       "    }\n",
       "\n",
       "    .dataframe thead th {\n",
       "        text-align: right;\n",
       "    }\n",
       "</style>\n",
       "<table border=\"1\" class=\"dataframe\">\n",
       "  <thead>\n",
       "    <tr style=\"text-align: right;\">\n",
       "      <th></th>\n",
       "      <th>Total Player Count</th>\n",
       "      <th>Percentage of Players</th>\n",
       "    </tr>\n",
       "  </thead>\n",
       "  <tbody>\n",
       "    <tr>\n",
       "      <th>Male</th>\n",
       "      <td>484</td>\n",
       "      <td>84.027778</td>\n",
       "    </tr>\n",
       "    <tr>\n",
       "      <th>Female</th>\n",
       "      <td>81</td>\n",
       "      <td>14.062500</td>\n",
       "    </tr>\n",
       "    <tr>\n",
       "      <th>Other</th>\n",
       "      <td>11</td>\n",
       "      <td>1.909722</td>\n",
       "    </tr>\n",
       "  </tbody>\n",
       "</table>\n",
       "</div>"
      ],
      "text/plain": [
       "        Total Player Count  Percentage of Players\n",
       "Male                   484              84.027778\n",
       "Female                  81              14.062500\n",
       "Other                   11               1.909722"
      ]
     },
     "execution_count": 90,
     "metadata": {},
     "output_type": "execute_result"
    }
   ],
   "source": [
    "total_males = purchase_data.loc[purchase_data[\"Gender\"] == \"Male\"].loc[:,[\"SN\"]].nunique()\n",
    "#print(total_males)\n",
    "total_females = purchase_data.loc[purchase_data[\"Gender\"] == \"Female\"].loc[:,[\"SN\"]].nunique()\n",
    "#print(total_females)\n",
    "total_other = purchase_data.loc[purchase_data[\"Gender\"] == \"Other / Non-Disclosed\"].loc[:,[\"SN\"]].nunique()\n",
    "#print(total_other)\n",
    "total_players = total_males + total_females + total_other\n",
    "row_labels = [pd.Index([\"Male\", \"Female\", \"Other\"])]\n",
    "percentages = [(total_males/total_players).item()*100, (total_females/total_players).item()*100, (total_other/total_players).item()*100]\n",
    "counts = [total_males.item(), total_females.item(), total_other.item()]\n",
    "pd.DataFrame({\"Total Player Count\": counts, \"Percentage of Players\": percentages }).set_index(row_labels)"
   ]
  },
  {
   "cell_type": "markdown",
   "metadata": {},
   "source": [
    "\n",
    "## Purchasing Analysis (Gender)"
   ]
  },
  {
   "cell_type": "markdown",
   "metadata": {},
   "source": [
    "* Run basic calculations to obtain purchase count, avg. purchase price, avg. purchase total per person etc. by gender\n",
    "\n",
    "\n",
    "\n",
    "\n",
    "* Create a summary data frame to hold the results\n",
    "\n",
    "\n",
    "* Optional: give the displayed data cleaner formatting\n",
    "\n",
    "\n",
    "* Display the summary data frame"
   ]
  },
  {
   "cell_type": "code",
   "execution_count": 126,
   "metadata": {},
   "outputs": [
    {
     "data": {
      "text/html": [
       "<div>\n",
       "<style scoped>\n",
       "    .dataframe tbody tr th:only-of-type {\n",
       "        vertical-align: middle;\n",
       "    }\n",
       "\n",
       "    .dataframe tbody tr th {\n",
       "        vertical-align: top;\n",
       "    }\n",
       "\n",
       "    .dataframe thead th {\n",
       "        text-align: right;\n",
       "    }\n",
       "</style>\n",
       "<table border=\"1\" class=\"dataframe\">\n",
       "  <thead>\n",
       "    <tr style=\"text-align: right;\">\n",
       "      <th></th>\n",
       "      <th>Purchase Count</th>\n",
       "      <th>Average Purchase Price</th>\n",
       "      <th>Total Purchase Value</th>\n",
       "      <th>Avg Total Purchase per Person</th>\n",
       "    </tr>\n",
       "  </thead>\n",
       "  <tbody>\n",
       "    <tr>\n",
       "      <th>Female</th>\n",
       "      <td>113</td>\n",
       "      <td>3.203009</td>\n",
       "      <td>361.94</td>\n",
       "      <td>4.468395</td>\n",
       "    </tr>\n",
       "    <tr>\n",
       "      <th>Male</th>\n",
       "      <td>652</td>\n",
       "      <td>3.017853</td>\n",
       "      <td>1967.64</td>\n",
       "      <td>4.065372</td>\n",
       "    </tr>\n",
       "    <tr>\n",
       "      <th>Other</th>\n",
       "      <td>15</td>\n",
       "      <td>3.346000</td>\n",
       "      <td>50.19</td>\n",
       "      <td>4.562727</td>\n",
       "    </tr>\n",
       "  </tbody>\n",
       "</table>\n",
       "</div>"
      ],
      "text/plain": [
       "        Purchase Count  Average Purchase Price  Total Purchase Value  \\\n",
       "Female             113                3.203009                361.94   \n",
       "Male               652                3.017853               1967.64   \n",
       "Other               15                3.346000                 50.19   \n",
       "\n",
       "        Avg Total Purchase per Person  \n",
       "Female                       4.468395  \n",
       "Male                         4.065372  \n",
       "Other                        4.562727  "
      ]
     },
     "execution_count": 126,
     "metadata": {},
     "output_type": "execute_result"
    }
   ],
   "source": [
    "total_fem_p = len(purchase_data.loc[purchase_data[\"Gender\"] == \"Female\"]) \n",
    "#print(total_fem_p)\n",
    "total_mal_p = len(purchase_data.loc[purchase_data[\"Gender\"] == \"Male\"]) \n",
    "#print(total_mal_p)\n",
    "total_oth_p = len(purchase_data.loc[purchase_data[\"Gender\"] == \"Other / Non-Disclosed\"]) \n",
    "#print(total_oth_p)\n",
    "\n",
    "mean_fem = purchase_data.loc[purchase_data[\"Gender\"] == \"Female\"].mean()[\"Price\"]\n",
    "#print(mean_fem)\n",
    "mean_mal = purchase_data.loc[purchase_data[\"Gender\"] == \"Male\"].mean()[\"Price\"]\n",
    "#print(mean_mal)\n",
    "mean_oth = purchase_data.loc[purchase_data[\"Gender\"] == \"Other / Non-Disclosed\"].mean()[\"Price\"]\n",
    "#print(mean_oth)\n",
    "\n",
    "tpv_fem = purchase_data.loc[purchase_data[\"Gender\"] == \"Female\"].sum()[\"Price\"]\n",
    "#print(tpv_fem)\n",
    "tpv_mal = purchase_data.loc[purchase_data[\"Gender\"] == \"Male\"].sum()[\"Price\"]\n",
    "#print(tpv_mal)\n",
    "tpv_oth = purchase_data.loc[purchase_data[\"Gender\"] == \"Other / Non-Disclosed\"].sum()[\"Price\"]\n",
    "#print(tpv_oth)\n",
    "\n",
    "sum_fem = purchase_data.loc[purchase_data[\"Gender\"] == \"Female\"].sum()[\"Price\"]\n",
    "avg_fem = sum_fem / purchase_data.loc[purchase_data[\"Gender\"] == \"Female\"][\"SN\"].nunique()\n",
    "#print(avg_fem)\n",
    "sum_mal = purchase_data.loc[purchase_data[\"Gender\"] == \"Male\"].sum()[\"Price\"]\n",
    "avg_mal = sum_mal / purchase_data.loc[purchase_data[\"Gender\"] == \"Male\"][\"SN\"].nunique()\n",
    "#print(avg_mal)\n",
    "sum_oth = purchase_data.loc[purchase_data[\"Gender\"] == \"Other / Non-Disclosed\"].sum()[\"Price\"]\n",
    "avg_oth = sum_oth / purchase_data.loc[purchase_data[\"Gender\"] == \"Other / Non-Disclosed\"][\"SN\"].nunique()\n",
    "#print(avg_oth)\n",
    "\n",
    "r_labels = [pd.Index([\"Female\", \"Male\", \"Other\"])]\n",
    "#pd.DataFrame({\"Female\": total_fem_p, \"Percentage of Players\": percentages }).set_index(r_labels)\n",
    "\n",
    "pd.DataFrame({\"Purchase Count\": [total_fem_p, total_mal_p, total_oth_p], \"Average Purchase Price\": [mean_fem, mean_mal, mean_oth], \"Total Purchase Value\": [tpv_fem, tpv_mal, tpv_oth], \"Avg Total Purchase per Person\": [avg_fem, avg_mal, avg_oth]}).set_index(r_labels)"
   ]
  },
  {
   "cell_type": "markdown",
   "metadata": {},
   "source": [
    "## Age Demographics"
   ]
  },
  {
   "cell_type": "markdown",
   "metadata": {},
   "source": [
    "* Establish bins for ages\n",
    "\n",
    "\n",
    "* Categorize the existing players using the age bins. Hint: use pd.cut()\n",
    "\n",
    "\n",
    "* Calculate the numbers and percentages by age group\n",
    "\n",
    "\n",
    "* Create a summary data frame to hold the results\n",
    "\n",
    "\n",
    "* Optional: round the percentage column to two decimal points\n",
    "\n",
    "\n",
    "* Display Age Demographics Table\n"
   ]
  },
  {
   "cell_type": "code",
   "execution_count": 198,
   "metadata": {},
   "outputs": [
    {
     "name": "stdout",
     "output_type": "stream",
     "text": [
      "<10       2.951389\n",
      "10-14     3.819444\n",
      "15-19    18.576389\n",
      "20-24    44.791667\n",
      "25-29    13.368056\n",
      "30-34     9.027778\n",
      "35-39     5.381944\n",
      "40+       2.083333\n",
      "Name: p_analysis, dtype: float64\n"
     ]
    }
   ],
   "source": [
    "bins = [0, 9, 14, 19, 24, 29, 34, 39, 99]\n",
    "ages = [\"<10\", \"10-14\", \"15-19\", \"20-24\", \"25-29\", \"30-34\", \"35-39\", \"40+\"]\n",
    "purchase_data[\"p_analysis\"] = pd.cut(purchase_data[\"Age\"], bins, labels=ages)\n",
    "unique_players = purchase_data.drop_duplicates(subset=[\"SN\"], keep=\"first\")\n",
    "#print(unique_players.loc[:,(\"Age\",\"p_analysis\")][unique_players[\"p_analysis\"] == \"<10\"])\n",
    "#print(unique_players[\"p_analysis\"].value_counts(sort=False))\n",
    "total_players = unique_players[\"SN\"].nunique()\n",
    "print(unique_players[\"p_analysis\"].value_counts(sort=False) / total_players*100)\n"
   ]
  },
  {
   "cell_type": "markdown",
   "metadata": {},
   "source": [
    "## Purchasing Analysis (Age)"
   ]
  },
  {
   "cell_type": "markdown",
   "metadata": {},
   "source": [
    "* Bin the purchase_data data frame by age\n",
    "\n",
    "\n",
    "* Run basic calculations to obtain purchase count, avg. purchase price, avg. purchase total per person etc. in the table below\n",
    "\n",
    "\n",
    "* Create a summary data frame to hold the results\n",
    "\n",
    "\n",
    "* Optional: give the displayed data cleaner formatting\n",
    "\n",
    "\n",
    "* Display the summary data frame"
   ]
  },
  {
   "cell_type": "code",
   "execution_count": 232,
   "metadata": {
    "scrolled": true
   },
   "outputs": [
    {
     "data": {
      "text/html": [
       "<div>\n",
       "<style scoped>\n",
       "    .dataframe tbody tr th:only-of-type {\n",
       "        vertical-align: middle;\n",
       "    }\n",
       "\n",
       "    .dataframe tbody tr th {\n",
       "        vertical-align: top;\n",
       "    }\n",
       "\n",
       "    .dataframe thead th {\n",
       "        text-align: right;\n",
       "    }\n",
       "</style>\n",
       "<table border=\"1\" class=\"dataframe\">\n",
       "  <thead>\n",
       "    <tr style=\"text-align: right;\">\n",
       "      <th></th>\n",
       "      <th>Purchase Count</th>\n",
       "      <th>Average Purchase Price</th>\n",
       "      <th>Total Purchase Value</th>\n",
       "    </tr>\n",
       "    <tr>\n",
       "      <th>p_analysis</th>\n",
       "      <th></th>\n",
       "      <th></th>\n",
       "      <th></th>\n",
       "    </tr>\n",
       "  </thead>\n",
       "  <tbody>\n",
       "    <tr>\n",
       "      <th>10-14</th>\n",
       "      <td>28</td>\n",
       "      <td>2.956429</td>\n",
       "      <td>82.78</td>\n",
       "    </tr>\n",
       "    <tr>\n",
       "      <th>15-19</th>\n",
       "      <td>136</td>\n",
       "      <td>3.035956</td>\n",
       "      <td>412.89</td>\n",
       "    </tr>\n",
       "    <tr>\n",
       "      <th>20-24</th>\n",
       "      <td>365</td>\n",
       "      <td>3.052219</td>\n",
       "      <td>1114.06</td>\n",
       "    </tr>\n",
       "    <tr>\n",
       "      <th>25-29</th>\n",
       "      <td>101</td>\n",
       "      <td>2.900990</td>\n",
       "      <td>293.00</td>\n",
       "    </tr>\n",
       "    <tr>\n",
       "      <th>30-34</th>\n",
       "      <td>73</td>\n",
       "      <td>2.931507</td>\n",
       "      <td>214.00</td>\n",
       "    </tr>\n",
       "    <tr>\n",
       "      <th>35-39</th>\n",
       "      <td>41</td>\n",
       "      <td>3.601707</td>\n",
       "      <td>147.67</td>\n",
       "    </tr>\n",
       "    <tr>\n",
       "      <th>40+</th>\n",
       "      <td>13</td>\n",
       "      <td>2.941538</td>\n",
       "      <td>38.24</td>\n",
       "    </tr>\n",
       "    <tr>\n",
       "      <th>&lt;10</th>\n",
       "      <td>23</td>\n",
       "      <td>3.353478</td>\n",
       "      <td>77.13</td>\n",
       "    </tr>\n",
       "  </tbody>\n",
       "</table>\n",
       "</div>"
      ],
      "text/plain": [
       "            Purchase Count  Average Purchase Price  Total Purchase Value\n",
       "p_analysis                                                              \n",
       "10-14                   28                2.956429                 82.78\n",
       "15-19                  136                3.035956                412.89\n",
       "20-24                  365                3.052219               1114.06\n",
       "25-29                  101                2.900990                293.00\n",
       "30-34                   73                2.931507                214.00\n",
       "35-39                   41                3.601707                147.67\n",
       "40+                     13                2.941538                 38.24\n",
       "<10                     23                3.353478                 77.13"
      ]
     },
     "execution_count": 232,
     "metadata": {},
     "output_type": "execute_result"
    }
   ],
   "source": [
    "purchase_count = purchase_data.groupby(\"p_analysis\")[\"Price\"].count().sort_values(ascending=False)\n",
    "avg_purchase = purchase_data.groupby(\"p_analysis\")[\"Price\"].mean()\n",
    "tot_pvalue = purchase_data.groupby(\"p_analysis\")[\"Price\"].sum()\n",
    "\n",
    "pd.DataFrame({\"Purchase Count\": purchase_count, \"Average Purchase Price\": avg_purchase, \"Total Purchase Value\": tot_pvalue})"
   ]
  },
  {
   "cell_type": "markdown",
   "metadata": {},
   "source": [
    "## Top Spenders"
   ]
  },
  {
   "cell_type": "markdown",
   "metadata": {},
   "source": [
    "* Run basic calculations to obtain the results in the table below\n",
    "\n",
    "\n",
    "* Create a summary data frame to hold the results\n",
    "\n",
    "\n",
    "* Sort the total purchase value column in descending order\n",
    "\n",
    "\n",
    "* Optional: give the displayed data cleaner formatting\n",
    "\n",
    "\n",
    "* Display a preview of the summary data frame\n",
    "\n"
   ]
  },
  {
   "cell_type": "code",
   "execution_count": 262,
   "metadata": {},
   "outputs": [
    {
     "data": {
      "text/html": [
       "<div>\n",
       "<style scoped>\n",
       "    .dataframe tbody tr th:only-of-type {\n",
       "        vertical-align: middle;\n",
       "    }\n",
       "\n",
       "    .dataframe tbody tr th {\n",
       "        vertical-align: top;\n",
       "    }\n",
       "\n",
       "    .dataframe thead th {\n",
       "        text-align: right;\n",
       "    }\n",
       "</style>\n",
       "<table border=\"1\" class=\"dataframe\">\n",
       "  <thead>\n",
       "    <tr style=\"text-align: right;\">\n",
       "      <th></th>\n",
       "      <th>Total Purchase</th>\n",
       "      <th>Avgerage Purchase Price</th>\n",
       "      <th>Purchase Count</th>\n",
       "    </tr>\n",
       "    <tr>\n",
       "      <th>SN</th>\n",
       "      <th></th>\n",
       "      <th></th>\n",
       "      <th></th>\n",
       "    </tr>\n",
       "  </thead>\n",
       "  <tbody>\n",
       "    <tr>\n",
       "      <th>Lisosia93</th>\n",
       "      <td>18.96</td>\n",
       "      <td>3.792000</td>\n",
       "      <td>5</td>\n",
       "    </tr>\n",
       "    <tr>\n",
       "      <th>Idastidru52</th>\n",
       "      <td>15.45</td>\n",
       "      <td>3.862500</td>\n",
       "      <td>4</td>\n",
       "    </tr>\n",
       "    <tr>\n",
       "      <th>Chamjask73</th>\n",
       "      <td>13.83</td>\n",
       "      <td>4.610000</td>\n",
       "      <td>3</td>\n",
       "    </tr>\n",
       "    <tr>\n",
       "      <th>Iral74</th>\n",
       "      <td>13.62</td>\n",
       "      <td>3.405000</td>\n",
       "      <td>4</td>\n",
       "    </tr>\n",
       "    <tr>\n",
       "      <th>Iskadarya95</th>\n",
       "      <td>13.10</td>\n",
       "      <td>4.366667</td>\n",
       "      <td>3</td>\n",
       "    </tr>\n",
       "  </tbody>\n",
       "</table>\n",
       "</div>"
      ],
      "text/plain": [
       "             Total Purchase  Avgerage Purchase Price  Purchase Count\n",
       "SN                                                                  \n",
       "Lisosia93             18.96                 3.792000               5\n",
       "Idastidru52           15.45                 3.862500               4\n",
       "Chamjask73            13.83                 4.610000               3\n",
       "Iral74                13.62                 3.405000               4\n",
       "Iskadarya95           13.10                 4.366667               3"
      ]
     },
     "execution_count": 262,
     "metadata": {},
     "output_type": "execute_result"
    }
   ],
   "source": [
    "p_by_player = purchase_data.loc[:,(\"SN\",\"Price\")].groupby(\"SN\")\n",
    "top_pvalue = p_by_player.sum()\n",
    "top_pvalue.rename(columns={\"Price\" : \"Total Purchase\"}, inplace=True)\n",
    "top_avgpvalue = p_by_player.mean()\n",
    "top_avgpvalue.rename(columns={\"Price\" : \"Avgerage Purchase Price\"}, inplace=True)\n",
    "top_count = p_by_player.count()\n",
    "top_count.rename(columns={\"Price\" : \"Purchase Count\"}, inplace=True)\n",
    "\n",
    "top_pvalue.join(top_avgpvalue).join(top_count).sort_values(by=[\"Total Purchase\"],ascending=False).head()\n",
    "\n",
    "#pd.DataFrame({\"Purchse Count\": top_count, \"Average Purchase Price\": top_avgpvalue, \"Total Purchase Price\": top_pvalue})"
   ]
  },
  {
   "cell_type": "markdown",
   "metadata": {},
   "source": [
    "## Most Popular Items"
   ]
  },
  {
   "cell_type": "markdown",
   "metadata": {},
   "source": [
    "* Retrieve the Item ID, Item Name, and Item Price columns\n",
    "\n",
    "\n",
    "* Group by Item ID and Item Name. Perform calculations to obtain purchase count, item price, and total purchase value\n",
    "\n",
    "\n",
    "* Create a summary data frame to hold the results\n",
    "\n",
    "\n",
    "* Sort the purchase count column in descending order\n",
    "\n",
    "\n",
    "* Optional: give the displayed data cleaner formatting\n",
    "\n",
    "\n",
    "* Display a preview of the summary data frame\n",
    "\n"
   ]
  },
  {
   "cell_type": "code",
   "execution_count": 305,
   "metadata": {},
   "outputs": [
    {
     "data": {
      "text/html": [
       "<div>\n",
       "<style scoped>\n",
       "    .dataframe tbody tr th:only-of-type {\n",
       "        vertical-align: middle;\n",
       "    }\n",
       "\n",
       "    .dataframe tbody tr th {\n",
       "        vertical-align: top;\n",
       "    }\n",
       "\n",
       "    .dataframe thead th {\n",
       "        text-align: right;\n",
       "    }\n",
       "</style>\n",
       "<table border=\"1\" class=\"dataframe\">\n",
       "  <thead>\n",
       "    <tr style=\"text-align: right;\">\n",
       "      <th></th>\n",
       "      <th>Total Purchase</th>\n",
       "      <th>Avgerage Purchase Price</th>\n",
       "      <th>Purchase Count</th>\n",
       "      <th>Item Name</th>\n",
       "    </tr>\n",
       "    <tr>\n",
       "      <th>Item ID</th>\n",
       "      <th></th>\n",
       "      <th></th>\n",
       "      <th></th>\n",
       "      <th></th>\n",
       "    </tr>\n",
       "  </thead>\n",
       "  <tbody>\n",
       "    <tr>\n",
       "      <th>178</th>\n",
       "      <td>50.76</td>\n",
       "      <td>4.23</td>\n",
       "      <td>12</td>\n",
       "      <td>Oathbreaker, Last Hope of the Breaking Storm</td>\n",
       "    </tr>\n",
       "    <tr>\n",
       "      <th>145</th>\n",
       "      <td>41.22</td>\n",
       "      <td>4.58</td>\n",
       "      <td>9</td>\n",
       "      <td>Fiery Glass Crusader</td>\n",
       "    </tr>\n",
       "    <tr>\n",
       "      <th>108</th>\n",
       "      <td>31.77</td>\n",
       "      <td>3.53</td>\n",
       "      <td>9</td>\n",
       "      <td>Extraction, Quickblade Of Trembling Hands</td>\n",
       "    </tr>\n",
       "    <tr>\n",
       "      <th>82</th>\n",
       "      <td>44.10</td>\n",
       "      <td>4.90</td>\n",
       "      <td>9</td>\n",
       "      <td>Nirvana</td>\n",
       "    </tr>\n",
       "    <tr>\n",
       "      <th>19</th>\n",
       "      <td>8.16</td>\n",
       "      <td>1.02</td>\n",
       "      <td>8</td>\n",
       "      <td>Pursuit, Cudgel of Necromancy</td>\n",
       "    </tr>\n",
       "  </tbody>\n",
       "</table>\n",
       "</div>"
      ],
      "text/plain": [
       "         Total Purchase  Avgerage Purchase Price  Purchase Count  \\\n",
       "Item ID                                                            \n",
       "178               50.76                     4.23              12   \n",
       "145               41.22                     4.58               9   \n",
       "108               31.77                     3.53               9   \n",
       "82                44.10                     4.90               9   \n",
       "19                 8.16                     1.02               8   \n",
       "\n",
       "                                            Item Name  \n",
       "Item ID                                                \n",
       "178      Oathbreaker, Last Hope of the Breaking Storm  \n",
       "145                              Fiery Glass Crusader  \n",
       "108         Extraction, Quickblade Of Trembling Hands  \n",
       "82                                            Nirvana  \n",
       "19                      Pursuit, Cudgel of Necromancy  "
      ]
     },
     "execution_count": 305,
     "metadata": {},
     "output_type": "execute_result"
    }
   ],
   "source": [
    "p_by_item = purchase_data.loc[:,(\"Item ID\",\"Price\", \"Item Name\")].groupby(\"Item ID\")\n",
    "top_p_item = p_by_item.sum()\n",
    "top_p_item.rename(columns={\"Price\" : \"Total Purchase\"}, inplace=True)\n",
    "top_avg_item = p_by_item.mean()\n",
    "top_avg_item.rename(columns={\"Price\" : \"Avgerage Purchase Price\"}, inplace=True)\n",
    "top_count = p_by_item[\"Price\"].count()\n",
    "top_count.name = \"Purchase Count\"\n",
    "item_names = purchase_data.loc[:,(\"Item ID\", \"Item Name\")].set_index(\"Item ID\").drop_duplicates()\n",
    "\n",
    "top_p_item.join(top_avg_item).join(top_count).join(item_names).sort_values(by=[\"Purchase Count\"],ascending=False).head()"
   ]
  },
  {
   "cell_type": "markdown",
   "metadata": {},
   "source": [
    "## Most Profitable Items"
   ]
  },
  {
   "cell_type": "markdown",
   "metadata": {},
   "source": [
    "* Sort the above table by total purchase value in descending order\n",
    "\n",
    "\n",
    "* Optional: give the displayed data cleaner formatting\n",
    "\n",
    "\n",
    "* Display a preview of the data frame\n",
    "\n"
   ]
  },
  {
   "cell_type": "code",
   "execution_count": 298,
   "metadata": {
    "scrolled": true
   },
   "outputs": [
    {
     "data": {
      "text/html": [
       "<div>\n",
       "<style scoped>\n",
       "    .dataframe tbody tr th:only-of-type {\n",
       "        vertical-align: middle;\n",
       "    }\n",
       "\n",
       "    .dataframe tbody tr th {\n",
       "        vertical-align: top;\n",
       "    }\n",
       "\n",
       "    .dataframe thead th {\n",
       "        text-align: right;\n",
       "    }\n",
       "</style>\n",
       "<table border=\"1\" class=\"dataframe\">\n",
       "  <thead>\n",
       "    <tr style=\"text-align: right;\">\n",
       "      <th></th>\n",
       "      <th>Total Purchase</th>\n",
       "      <th>Avgerage Purchase Price</th>\n",
       "      <th>Purchase Count</th>\n",
       "      <th>Item Name</th>\n",
       "    </tr>\n",
       "    <tr>\n",
       "      <th>Item ID</th>\n",
       "      <th></th>\n",
       "      <th></th>\n",
       "      <th></th>\n",
       "      <th></th>\n",
       "    </tr>\n",
       "  </thead>\n",
       "  <tbody>\n",
       "    <tr>\n",
       "      <th>178</th>\n",
       "      <td>50.76</td>\n",
       "      <td>4.23</td>\n",
       "      <td>12</td>\n",
       "      <td>Oathbreaker, Last Hope of the Breaking Storm</td>\n",
       "    </tr>\n",
       "    <tr>\n",
       "      <th>82</th>\n",
       "      <td>44.10</td>\n",
       "      <td>4.90</td>\n",
       "      <td>9</td>\n",
       "      <td>Nirvana</td>\n",
       "    </tr>\n",
       "    <tr>\n",
       "      <th>145</th>\n",
       "      <td>41.22</td>\n",
       "      <td>4.58</td>\n",
       "      <td>9</td>\n",
       "      <td>Fiery Glass Crusader</td>\n",
       "    </tr>\n",
       "    <tr>\n",
       "      <th>92</th>\n",
       "      <td>39.04</td>\n",
       "      <td>4.88</td>\n",
       "      <td>8</td>\n",
       "      <td>Final Critic</td>\n",
       "    </tr>\n",
       "    <tr>\n",
       "      <th>103</th>\n",
       "      <td>34.80</td>\n",
       "      <td>4.35</td>\n",
       "      <td>8</td>\n",
       "      <td>Singed Scalpel</td>\n",
       "    </tr>\n",
       "  </tbody>\n",
       "</table>\n",
       "</div>"
      ],
      "text/plain": [
       "         Total Purchase  Avgerage Purchase Price  Purchase Count  \\\n",
       "Item ID                                                            \n",
       "178               50.76                     4.23              12   \n",
       "82                44.10                     4.90               9   \n",
       "145               41.22                     4.58               9   \n",
       "92                39.04                     4.88               8   \n",
       "103               34.80                     4.35               8   \n",
       "\n",
       "                                            Item Name  \n",
       "Item ID                                                \n",
       "178      Oathbreaker, Last Hope of the Breaking Storm  \n",
       "82                                            Nirvana  \n",
       "145                              Fiery Glass Crusader  \n",
       "92                                       Final Critic  \n",
       "103                                    Singed Scalpel  "
      ]
     },
     "execution_count": 298,
     "metadata": {},
     "output_type": "execute_result"
    }
   ],
   "source": [
    "p_by_item = purchase_data.loc[:,(\"Item ID\",\"Price\", \"Item Name\")].groupby(\"Item ID\")\n",
    "top_p_item = p_by_item.sum()\n",
    "top_p_item.rename(columns={\"Price\" : \"Total Purchase\"}, inplace=True)\n",
    "top_avg_item = p_by_item.mean()\n",
    "top_avg_item.rename(columns={\"Price\" : \"Avgerage Purchase Price\"}, inplace=True)\n",
    "top_count = p_by_item[\"Price\"].count()\n",
    "top_count.name = \"Purchase Count\"\n",
    "item_names = purchase_data.loc[:,(\"Item ID\", \"Item Name\")].set_index(\"Item ID\").drop_duplicates()\n",
    "\n",
    "top_p_item.join(top_avg_item).join(top_count).join(item_names).sort_values(by=[\"Total Purchase\"],ascending=False).head()"
   ]
  },
  {
   "cell_type": "code",
   "execution_count": null,
   "metadata": {},
   "outputs": [],
   "source": []
  }
 ],
 "metadata": {
  "anaconda-cloud": {},
  "kernel_info": {
   "name": "python3"
  },
  "kernelspec": {
   "display_name": "Python 3",
   "language": "python",
   "name": "python3"
  },
  "language_info": {
   "codemirror_mode": {
    "name": "ipython",
    "version": 3
   },
   "file_extension": ".py",
   "mimetype": "text/x-python",
   "name": "python",
   "nbconvert_exporter": "python",
   "pygments_lexer": "ipython3",
   "version": "3.6.7"
  },
  "nteract": {
   "version": "0.2.0"
  }
 },
 "nbformat": 4,
 "nbformat_minor": 2
}
